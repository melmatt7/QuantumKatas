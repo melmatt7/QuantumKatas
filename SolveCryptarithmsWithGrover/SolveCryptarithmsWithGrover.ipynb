{
 "cells": [
  {
   "cell_type": "code",
   "execution_count": 2,
   "metadata": {},
   "outputs": [
    {
     "data": {
      "application/json": "[\"base4tobase10\"]",
      "text/html": [
       "<ul><li>base4tobase10</li></ul>"
      ],
      "text/plain": [
       "base4tobase10"
      ]
     },
     "execution_count": 2,
     "metadata": {},
     "output_type": "execute_result"
    }
   ],
   "source": [
    "open Microsoft.Quantum.Convert;\n",
    "open Microsoft.Quantum.Measurement;\n",
    "\n",
    "operation base4tobase10(register : Qubit[]) : Int {\n",
    "    let measurements = MultiM(register);\n",
    "    return ResultArrayAsInt(measurements);\n",
    "}\n",
    "    "
   ]
  },
  {
   "cell_type": "code",
   "execution_count": 3,
   "metadata": {},
   "outputs": [
    {
     "data": {
      "application/json": "[\"InitializeColor_Reference\"]",
      "text/html": [
       "<ul><li>InitializeColor_Reference</li></ul>"
      ],
      "text/plain": [
       "InitializeColor_Reference"
      ]
     },
     "execution_count": 3,
     "metadata": {},
     "output_type": "execute_result"
    }
   ],
   "source": [
    "operation InitializeColor_Reference (C : Int, register : Qubit[]) : Unit is Adj {\n",
    "    let N = Length(register);\n",
    "    // Convert C to an array of bits in little endian format\n",
    "    let binaryC = IntAsBoolArray(C, N);\n",
    "    // Value \"true\" corresponds to bit 1 and requires applying an X gate\n",
    "    ApplyPauliFromBitString(PauliX, true, binaryC, register);\n",
    "}"
   ]
  },
  {
   "cell_type": "code",
   "execution_count": 4,
   "metadata": {},
   "outputs": [
    {
     "name": "stderr",
     "output_type": "stream",
     "text": [
      "/snippet_.qs(1,1): error QS4004: Statements can only occur within a callable or specialization declaration.\n"
     ]
    }
   ],
   "source": [
    "for (N in 1 .. 4) {\n",
    "    using (register = Qubit[N]) {\n",
    "        for (C in 0 .. (1 <<< N) - 1) {\n",
    "            // prepare the register in the input state\n",
    "            InitializeColor_Reference(C, register);\n",
    "\n",
    "            // call the solution and verify its return value\n",
    "            let result = MeasureColor(register);\n",
    "            Fact(result == C, $\"Unexpected measurement result for N = {N}, C = {C} : {result}\");\n",
    "\n",
    "            // verify that the register remained in the same state\n",
    "            Adjoint InitializeColor_Reference(C, register);\n",
    "            AssertAllZero(register);\n",
    "        }\n",
    "    }\n",
    "}"
   ]
  },
  {
   "cell_type": "code",
   "execution_count": null,
   "metadata": {},
   "outputs": [],
   "source": []
  }
 ],
 "metadata": {
  "kernelspec": {
   "display_name": "Q#",
   "language": "qsharp",
   "name": "iqsharp"
  },
  "language_info": {
   "file_extension": ".qs",
   "mimetype": "text/x-qsharp",
   "name": "qsharp",
   "version": "0.13"
  }
 },
 "nbformat": 4,
 "nbformat_minor": 4
}
